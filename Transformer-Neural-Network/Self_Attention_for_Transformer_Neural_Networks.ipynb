{
 "cells": [
  {
   "cell_type": "markdown",
   "metadata": {
    "id": "gO5Z0qErNuOt"
   },
   "source": [
    "# Self Attention in Transformers"
   ]
  },
  {
   "cell_type": "markdown",
   "metadata": {
    "id": "HedntyUvLrBo"
   },
   "source": [
    "## Generate Data"
   ]
  },
  {
   "cell_type": "code",
   "execution_count": 1,
   "metadata": {
    "id": "xtKbaWhFJui3"
   },
   "outputs": [],
   "source": [
    "import numpy as np\n",
    "import math\n",
    "\n",
    "L, d_k, d_v = 4, 8, 8\n",
    "q = np.random.randn(L, d_k)\n",
    "k = np.random.randn(L, d_k)\n",
    "v = np.random.randn(L, d_v)"
   ]
  },
  {
   "cell_type": "code",
   "execution_count": 2,
   "metadata": {
    "colab": {
     "base_uri": "https://localhost:8080/"
    },
    "id": "09JpvuNJ2sZC",
    "outputId": "30d2c627-8647-44e0-aa92-c9e53e3b7843"
   },
   "outputs": [
    {
     "name": "stdout",
     "output_type": "stream",
     "text": [
      "Q\n",
      " [[ 0.89917746  0.21502107 -0.59958722 -0.55723961 -0.49824304 -1.41820529\n",
      "  -0.42197575 -0.2317329 ]\n",
      " [ 0.622668   -0.74936698  0.01161096 -1.11868925  0.23696572  0.52514834\n",
      "   0.55972373 -2.01310969]\n",
      " [-1.16504065  0.86816784 -0.85159753  0.58881758  0.18209637 -0.14922834\n",
      "  -0.08030625  0.89014178]\n",
      " [-1.41261991  0.70759187  0.22305526  0.97933654 -0.10309459  0.66098278\n",
      "   1.93275013  1.73698403]]\n",
      "K\n",
      " [[-0.14740497  0.0108732   0.61592921  1.11403729 -0.36854029 -0.44968157\n",
      "  -0.33815192 -0.44581356]\n",
      " [ 0.30327292 -1.13620901  0.62375687  0.16713418  0.48839604 -1.95342897\n",
      "  -0.48498931 -0.42216305]\n",
      " [ 0.52960127  1.13138675 -1.44877434 -0.21365629 -0.56213552  2.24652558\n",
      "   0.66100044  0.2716143 ]\n",
      " [-0.31181308  1.0572872  -1.61441829 -0.56380099 -0.9620224  -0.93774973\n",
      "   0.69809179 -2.5545543 ]]\n",
      "V\n",
      " [[ 1.30626608 -0.39773238 -0.41362384 -1.05023084  0.85346049  1.52822707\n",
      "  -0.10596725 -1.45341744]\n",
      " [ 0.48240463 -1.12770688  1.48405035 -1.22671258 -0.34672049  1.1323596\n",
      "   0.15532462 -0.06837614]\n",
      " [ 0.89481748 -0.13439333 -0.33388911  0.3497526  -1.3233576   0.88760154\n",
      "  -0.75699228 -0.48816243]\n",
      " [ 0.61186932 -1.16124738 -1.39659229  0.87245559 -0.47176501 -1.14057745\n",
      "  -0.24401315 -0.36448067]]\n"
     ]
    }
   ],
   "source": [
    "print(\"Q\\n\", q)\n",
    "print(\"K\\n\", k)\n",
    "print(\"V\\n\", v)"
   ]
  },
  {
   "cell_type": "markdown",
   "metadata": {
    "id": "tV6txskBLwjh"
   },
   "source": [
    "## Self Attention\n",
    "\n",
    "$$\n",
    "\\text{self attention} = softmax\\bigg(\\frac{Q.K^T}{\\sqrt{d_k}}+M\\bigg)\n",
    "$$\n",
    "\n",
    "$$\n",
    "\\text{new V} = \\text{self attention}.V\n",
    "$$ "
   ]
  },
  {
   "cell_type": "code",
   "execution_count": 3,
   "metadata": {
    "colab": {
     "base_uri": "https://localhost:8080/"
    },
    "id": "x7GePHKk3Mh0",
    "outputId": "7dae7f5e-4715-4fd4-fbfd-7c0815e7d39e"
   },
   "outputs": [
    {
     "data": {
      "text/plain": [
       "array([[-0.05292925,  2.39076302, -1.54062064,  3.3357596 ],\n",
       "       [-0.95432338,  0.52884069,  0.57387581,  4.43843352],\n",
       "       [-0.05707269, -1.72891884,  1.2242793 , -0.04118223],\n",
       "       [-0.24284681, -3.94175629,  2.81224287, -3.33229434]])"
      ]
     },
     "execution_count": 3,
     "metadata": {},
     "output_type": "execute_result"
    }
   ],
   "source": [
    "np.matmul(q, k.T)"
   ]
  },
  {
   "cell_type": "code",
   "execution_count": 4,
   "metadata": {
    "colab": {
     "base_uri": "https://localhost:8080/"
    },
    "id": "odK76OoI3nL2",
    "outputId": "69b50cdb-9a41-45ae-bfd2-619228af1ef7"
   },
   "outputs": [
    {
     "data": {
      "text/plain": [
       "(0.8015709706411361, 0.9474070707155748, 4.925834680355804)"
      ]
     },
     "execution_count": 4,
     "metadata": {},
     "output_type": "execute_result"
    }
   ],
   "source": [
    "# Why we need sqrt(d_k) in denominator\n",
    "q.var(), k.var(), np.matmul(q, k.T).var()"
   ]
  },
  {
   "cell_type": "code",
   "execution_count": 5,
   "metadata": {
    "colab": {
     "base_uri": "https://localhost:8080/"
    },
    "id": "0Ps6AY1Q3tRI",
    "outputId": "3b9ac3c8-70b8-47bd-e868-e7d6fd26d270"
   },
   "outputs": [
    {
     "data": {
      "text/plain": [
       "(0.8015709706411361, 0.9474070707155748, 0.6157293350444755)"
      ]
     },
     "execution_count": 5,
     "metadata": {},
     "output_type": "execute_result"
    }
   ],
   "source": [
    "scaled = np.matmul(q, k.T) / math.sqrt(d_k)\n",
    "q.var(), k.var(), scaled.var()"
   ]
  },
  {
   "cell_type": "markdown",
   "metadata": {
    "id": "ypO9IK1PL3cJ"
   },
   "source": [
    "Notice the reduction in variance of the product"
   ]
  },
  {
   "cell_type": "code",
   "execution_count": 6,
   "metadata": {
    "colab": {
     "base_uri": "https://localhost:8080/"
    },
    "id": "LVHAJR4N4VQX",
    "outputId": "52b06cf8-0381-453c-b576-0bd8de9a38b5"
   },
   "outputs": [
    {
     "data": {
      "text/plain": [
       "array([[-0.01871332,  0.84526237, -0.54469165,  1.17936912],\n",
       "       [-0.33740427,  0.18697342,  0.20289574,  1.56922322],\n",
       "       [-0.02017824, -0.61126512,  0.4328481 , -0.01456012],\n",
       "       [-0.08585931, -1.3936213 ,  0.994278  , -1.17814396]])"
      ]
     },
     "execution_count": 6,
     "metadata": {},
     "output_type": "execute_result"
    }
   ],
   "source": [
    "scaled"
   ]
  },
  {
   "cell_type": "markdown",
   "metadata": {
    "id": "Dmz4v-RmMAaj"
   },
   "source": [
    "## Masking\n",
    "\n",
    "- This is to ensure words don't get context from words generated in the future. \n",
    "- Not required in the encoders, but required int he decoders"
   ]
  },
  {
   "cell_type": "code",
   "execution_count": 7,
   "metadata": {
    "colab": {
     "base_uri": "https://localhost:8080/"
    },
    "id": "e8N3OhSLILfG",
    "outputId": "2c63a444-066c-44b2-abe5-242dd989f311"
   },
   "outputs": [
    {
     "data": {
      "text/plain": [
       "array([[1., 0., 0., 0.],\n",
       "       [1., 1., 0., 0.],\n",
       "       [1., 1., 1., 0.],\n",
       "       [1., 1., 1., 1.]])"
      ]
     },
     "execution_count": 7,
     "metadata": {},
     "output_type": "execute_result"
    }
   ],
   "source": [
    "mask = np.tril(np.ones( (L, L) ))\n",
    "mask"
   ]
  },
  {
   "cell_type": "code",
   "execution_count": 8,
   "metadata": {
    "id": "hIV9K3Yn6s1V"
   },
   "outputs": [],
   "source": [
    "mask[mask == 0] = -np.infty\n",
    "mask[mask == 1] = 0"
   ]
  },
  {
   "cell_type": "code",
   "execution_count": 9,
   "metadata": {
    "colab": {
     "base_uri": "https://localhost:8080/"
    },
    "id": "LK5V_T3W6vpX",
    "outputId": "bb4160a1-a011-4850-e403-9cb252572c66"
   },
   "outputs": [
    {
     "data": {
      "text/plain": [
       "array([[  0., -inf, -inf, -inf],\n",
       "       [  0.,   0., -inf, -inf],\n",
       "       [  0.,   0.,   0., -inf],\n",
       "       [  0.,   0.,   0.,   0.]])"
      ]
     },
     "execution_count": 9,
     "metadata": {},
     "output_type": "execute_result"
    }
   ],
   "source": [
    "mask"
   ]
  },
  {
   "cell_type": "code",
   "execution_count": 10,
   "metadata": {
    "colab": {
     "base_uri": "https://localhost:8080/"
    },
    "id": "lNH1VgEf7xTa",
    "outputId": "4211c411-0356-4e39-8388-d39b0c1d0920"
   },
   "outputs": [
    {
     "data": {
      "text/plain": [
       "array([[-0.01871332,        -inf,        -inf,        -inf],\n",
       "       [-0.33740427,  0.18697342,        -inf,        -inf],\n",
       "       [-0.02017824, -0.61126512,  0.4328481 ,        -inf],\n",
       "       [-0.08585931, -1.3936213 ,  0.994278  , -1.17814396]])"
      ]
     },
     "execution_count": 10,
     "metadata": {},
     "output_type": "execute_result"
    }
   ],
   "source": [
    "scaled + mask"
   ]
  },
  {
   "cell_type": "markdown",
   "metadata": {
    "id": "XMTAXjooN9eZ"
   },
   "source": [
    "## Softmax\n",
    "\n",
    "$$\n",
    "\\text{softmax} = \\frac{e^{x_i}}{\\sum_j e^x_j}\n",
    "$$"
   ]
  },
  {
   "cell_type": "code",
   "execution_count": 11,
   "metadata": {
    "id": "2R4gdRqj8W4Y"
   },
   "outputs": [],
   "source": [
    "def softmax(x):\n",
    "  return (np.exp(x).T / np.sum(np.exp(x), axis=-1)).T"
   ]
  },
  {
   "cell_type": "code",
   "execution_count": 12,
   "metadata": {
    "id": "K5eg2zPy41sP"
   },
   "outputs": [],
   "source": [
    "attention = softmax(scaled + mask)"
   ]
  },
  {
   "cell_type": "code",
   "execution_count": 13,
   "metadata": {
    "colab": {
     "base_uri": "https://localhost:8080/"
    },
    "id": "7sauNmfl-1TB",
    "outputId": "46b22beb-9034-4c7c-8d56-04209d2581c4"
   },
   "outputs": [
    {
     "data": {
      "text/plain": [
       "array([[1.        , 0.        , 0.        , 0.        ],\n",
       "       [0.37182916, 0.62817084, 0.        , 0.        ],\n",
       "       [0.31981673, 0.17709056, 0.50309271, 0.        ],\n",
       "       [0.21973397, 0.05942147, 0.64713497, 0.07370959]])"
      ]
     },
     "execution_count": 13,
     "metadata": {},
     "output_type": "execute_result"
    }
   ],
   "source": [
    "attention"
   ]
  },
  {
   "cell_type": "code",
   "execution_count": 14,
   "metadata": {
    "colab": {
     "base_uri": "https://localhost:8080/"
    },
    "id": "BAy37go56LZo",
    "outputId": "78d97fa1-e0b3-4c1d-8294-bf0fdb77f199"
   },
   "outputs": [
    {
     "data": {
      "text/plain": [
       "array([[ 1.30626608, -0.39773238, -0.41362384, -1.05023084,  0.85346049,\n",
       "         1.52822707, -0.10596725, -1.45341744],\n",
       "       [ 0.78874034, -0.85628108,  0.77843976, -1.16109152,  0.09954179,\n",
       "         1.27955466,  0.05816868, -0.58337488],\n",
       "       [ 0.95337121, -0.39452002, -0.03744969, -0.37716263, -0.45422154,\n",
       "         1.13582864, -0.38722087, -0.72252694],\n",
       "       [ 0.93986455, -0.326971  , -0.32171632, -0.01301897, -0.72423298,\n",
       "         0.89341637, -0.52191727, -0.66620089]])"
      ]
     },
     "execution_count": 14,
     "metadata": {},
     "output_type": "execute_result"
    }
   ],
   "source": [
    "new_v = np.matmul(attention, v)\n",
    "new_v"
   ]
  },
  {
   "cell_type": "code",
   "execution_count": 15,
   "metadata": {
    "colab": {
     "base_uri": "https://localhost:8080/"
    },
    "id": "vCP2aZOU9VrT",
    "outputId": "e1fe2137-cd95-4a4b-fa1a-3ec21c38104c"
   },
   "outputs": [
    {
     "data": {
      "text/plain": [
       "array([[ 1.30626608, -0.39773238, -0.41362384, -1.05023084,  0.85346049,\n",
       "         1.52822707, -0.10596725, -1.45341744],\n",
       "       [ 0.48240463, -1.12770688,  1.48405035, -1.22671258, -0.34672049,\n",
       "         1.1323596 ,  0.15532462, -0.06837614],\n",
       "       [ 0.89481748, -0.13439333, -0.33388911,  0.3497526 , -1.3233576 ,\n",
       "         0.88760154, -0.75699228, -0.48816243],\n",
       "       [ 0.61186932, -1.16124738, -1.39659229,  0.87245559, -0.47176501,\n",
       "        -1.14057745, -0.24401315, -0.36448067]])"
      ]
     },
     "execution_count": 15,
     "metadata": {},
     "output_type": "execute_result"
    }
   ],
   "source": [
    "v"
   ]
  },
  {
   "cell_type": "code",
   "execution_count": null,
   "metadata": {
    "id": "h_JndWelLDNW"
   },
   "outputs": [],
   "source": []
  },
  {
   "cell_type": "markdown",
   "metadata": {
    "id": "nSiJuBQELFHT"
   },
   "source": [
    "# Function"
   ]
  },
  {
   "cell_type": "code",
   "execution_count": 16,
   "metadata": {
    "id": "XvTnmdcB_jdq"
   },
   "outputs": [],
   "source": [
    "def softmax(x):\n",
    "  return (np.exp(x).T / np.sum(np.exp(x), axis=-1)).T\n",
    "\n",
    "def scaled_dot_product_attention(q, k, v, mask=None):\n",
    "  d_k = q.shape[-1]\n",
    "  scaled = np.matmul(q, k.T) / math.sqrt(d_k)\n",
    "  if mask is not None:\n",
    "    scaled = scaled + mask\n",
    "  attention = softmax(scaled)\n",
    "  out = np.matmul(attention, v)\n",
    "  return out, attention"
   ]
  },
  {
   "cell_type": "code",
   "execution_count": 17,
   "metadata": {
    "colab": {
     "base_uri": "https://localhost:8080/"
    },
    "id": "KSxLkZdiSLMT",
    "outputId": "ca70508d-fb6e-4eec-acb6-7a89a60dffa8"
   },
   "outputs": [
    {
     "name": "stdout",
     "output_type": "stream",
     "text": [
      "Q\n",
      " [[ 0.89917746  0.21502107 -0.59958722 -0.55723961 -0.49824304 -1.41820529\n",
      "  -0.42197575 -0.2317329 ]\n",
      " [ 0.622668   -0.74936698  0.01161096 -1.11868925  0.23696572  0.52514834\n",
      "   0.55972373 -2.01310969]\n",
      " [-1.16504065  0.86816784 -0.85159753  0.58881758  0.18209637 -0.14922834\n",
      "  -0.08030625  0.89014178]\n",
      " [-1.41261991  0.70759187  0.22305526  0.97933654 -0.10309459  0.66098278\n",
      "   1.93275013  1.73698403]]\n",
      "K\n",
      " [[-0.14740497  0.0108732   0.61592921  1.11403729 -0.36854029 -0.44968157\n",
      "  -0.33815192 -0.44581356]\n",
      " [ 0.30327292 -1.13620901  0.62375687  0.16713418  0.48839604 -1.95342897\n",
      "  -0.48498931 -0.42216305]\n",
      " [ 0.52960127  1.13138675 -1.44877434 -0.21365629 -0.56213552  2.24652558\n",
      "   0.66100044  0.2716143 ]\n",
      " [-0.31181308  1.0572872  -1.61441829 -0.56380099 -0.9620224  -0.93774973\n",
      "   0.69809179 -2.5545543 ]]\n",
      "V\n",
      " [[ 1.30626608 -0.39773238 -0.41362384 -1.05023084  0.85346049  1.52822707\n",
      "  -0.10596725 -1.45341744]\n",
      " [ 0.48240463 -1.12770688  1.48405035 -1.22671258 -0.34672049  1.1323596\n",
      "   0.15532462 -0.06837614]\n",
      " [ 0.89481748 -0.13439333 -0.33388911  0.3497526  -1.3233576   0.88760154\n",
      "  -0.75699228 -0.48816243]\n",
      " [ 0.61186932 -1.16124738 -1.39659229  0.87245559 -0.47176501 -1.14057745\n",
      "  -0.24401315 -0.36448067]]\n",
      "New V\n",
      " [[ 1.30626608 -0.39773238 -0.41362384 -1.05023084  0.85346049  1.52822707\n",
      "  -0.10596725 -1.45341744]\n",
      " [ 0.78874034 -0.85628108  0.77843976 -1.16109152  0.09954179  1.27955466\n",
      "   0.05816868 -0.58337488]\n",
      " [ 0.95337121 -0.39452002 -0.03744969 -0.37716263 -0.45422154  1.13582864\n",
      "  -0.38722087 -0.72252694]\n",
      " [ 0.93986455 -0.326971   -0.32171632 -0.01301897 -0.72423298  0.89341637\n",
      "  -0.52191727 -0.66620089]]\n",
      "Attention\n",
      " [[1.         0.         0.         0.        ]\n",
      " [0.37182916 0.62817084 0.         0.        ]\n",
      " [0.31981673 0.17709056 0.50309271 0.        ]\n",
      " [0.21973397 0.05942147 0.64713497 0.07370959]]\n"
     ]
    }
   ],
   "source": [
    "values, attention = scaled_dot_product_attention(q, k, v, mask=mask)\n",
    "print(\"Q\\n\", q)\n",
    "print(\"K\\n\", k)\n",
    "print(\"V\\n\", v)\n",
    "print(\"New V\\n\", values)\n",
    "print(\"Attention\\n\", attention)"
   ]
  },
  {
   "cell_type": "code",
   "execution_count": null,
   "metadata": {
    "id": "-HtQQtB2LJus"
   },
   "outputs": [],
   "source": []
  }
 ],
 "metadata": {
  "colab": {
   "provenance": []
  },
  "kernelspec": {
   "display_name": "Python 3 (ipykernel)",
   "language": "python",
   "name": "python3"
  },
  "language_info": {
   "codemirror_mode": {
    "name": "ipython",
    "version": 3
   },
   "file_extension": ".py",
   "mimetype": "text/x-python",
   "name": "python",
   "nbconvert_exporter": "python",
   "pygments_lexer": "ipython3",
   "version": "3.10.10"
  }
 },
 "nbformat": 4,
 "nbformat_minor": 1
}
